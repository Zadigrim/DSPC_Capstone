{
 "cells": [
  {
   "cell_type": "markdown",
   "metadata": {},
   "source": [
    "<h1>Data Science Capstone Project</h1>"
   ]
  },
  {
   "cell_type": "markdown",
   "metadata": {},
   "source": [
    "## Table of Contents\n",
    "\n",
    "<ol>\n",
    "    <li>Introduction</li>\n",
    "    <li>Data Desciption/Analysis</li>\n",
    "    \n",
    "</ol>\n",
    "    "
   ]
  },
  {
   "cell_type": "markdown",
   "metadata": {},
   "source": [
    "## Introduction\n",
    "\n",
    "### Background\n",
    "From the 2019 Seattle Car Accident Statistics & Reports: \n",
    "The Washington State Department of Transportation (WSDOT) reports that in 2019, there were 10,315 total collisions in Seattle; of those, 3,658 resulted in possible injuries. They go on to report that deaths are up but serious injuries are down (part of this relating to the <a href=\"https://www.seattletimes.com/seattle-news/ntsb-ruling-expected-today-on-cause-of-ride-the-ducks-crash/\">Ride the Ducks vehicle crash</a> in 2015 which resulted from improper maintenance.\n",
    "\n",
    "\n",
    "##### Problem: \n",
    "Seattle's collision rate from 2015 to present has been on the rise and with more collisions comes the likelihood of more accidents.\n",
    "\n",
    "##### Project Intent: \n",
    "The intent of this project is to attemp to identify situations which are more likely to result in injury.\n",
    "  "
   ]
  },
  {
   "cell_type": "markdown",
   "metadata": {},
   "source": [
    "## Data Description/Analysis"
   ]
  },
  {
   "cell_type": "markdown",
   "metadata": {},
   "source": [
    "<h4> Raw Data:</h4>\n",
    "<ul>\n",
    "    <li>The given csv file contained 38 fields, of these, thirteen were integers, four were floating point/decimal numeric values, and the rest were mixed data or text.</li>\n",
    "    <li>Upon analysis of the the raw data it became apparent that some cleanup needed to be done. NaN values (missing data/null) were replaced with zeros, and fields which may have had zeros and \"N\"s within the same field or 1s and \"Y\"s in the same field needed to be stadardized. Values within these fields were all replaced with either 0s or 1s to be used as ints or bools.</li>\n",
    "    <li>Missing values (NaNs) in text fields were replaced with the text \"Unknown.\"</li>\n",
    "    <li>Two fields (X, and Y) appear to be latitude and longitude. These may be useful in determining if certain areas of the city are more prone to accidents.</li>\n",
    "</ul>"
   ]
  },
  {
   "cell_type": "markdown",
   "metadata": {},
   "source": [
    "<h4> Analysis:</h4>\n",
    "    <p>The data was grouped into two sets, numeric and text, to determine where there was significant variation between the values within the fields.</p>\n",
    "    <p><b><i>Numeric data fields</i></b><br>('SEVERITYCODE','PERSONCOUNT','PEDCOUNT','PEDCYLCOUNT','VEHCOUNT','UNDERINFL','SPEEDING','HITPARKEDCAR'):</p>\n",
    "    <ul>\n",
    "    <li><b>Severity</b> - Only two values exist within the example dataset but the metadata document indicates that there are five possible values for severity (0-Unknown,1-prop damage,2-injury,2b-serious injury,3-fatality). For further analysis of data including the remaining codes, the data would have to be converted to strictly integer codes.</li>\n",
    "    <li><b>Person Count/Vehicle Count</b> - appears to have no significance on the severity of the accident. The vast majority of collisions include only a single person and therefore are highest for a single person for both property damage and injury.</li>\n",
    "    <li><b>Ped Count and Ped Cycle Count</b> - Severity appears to be higher (above average and more likely to result in injury) as pedestrians and cyclists have less protection when struck by a vehicle.</li>\n",
    "    <li><b>Under the Influence and Speeding</b> - May result in a severity higher than two but unable to verify without data which contains severity codes greater than two.</li>\n",
    "    <li><b>Hit Parked Car</b> - Overwhelmingly property damage; these incidents are likely to occur at low speeds (while parking) and are unlikely to result in injury.</li>\n",
    "    </ul>"
   ]
  },
  {
   "cell_type": "markdown",
   "metadata": {},
   "source": [
    "<p><b><i>Text data fields</i></b><br>('ROADCOND','COLLISIONTYPE','WEATHER','LIGHTCOND'):</p>\n",
    "<ul>\n",
    "    <li><b>Note:</b> The text datafields seem to offer the best correlation between severity and their individual values; particularly for weather conditions and collision type. </li>\n",
    "    <li><b>Road Condition</b> - low correlation between the road conditions and the severity of the accident. Based on the data, one may be able to say that there is a slightly higher likelihood that wet or oily road conditions have slightly higher effect on the severity of an accident but overall there are more significant correlations based on Collision Type and Weather.</li>\n",
    "    <li><b>Collision Type</b> - Collisions with cycles and pedestrians have a much higher probablity of being an injury (sev type 2). Almost nine out of ten collisions with pedestrians or cyclists result in injury.</li>\n",
    "    <li><b>Weather</b> - Oddly enough, the weather condition 'Partly Cloudy' in most incidents where severity indicates injury. While there is a correlation, this does not imply causation and is most likely due to the high number of partially cloudy days in Seattle.</li>\n",
    "    <li><b>Light Condition</b> - Does not seem to be a significant factor in determining collision severity. Even when replacing 'Dusk' and 'Dawn' with 'twilight' there's no significant change in average severity of collisions.</li>\n",
    "    \n",
    "    </ul>"
   ]
  },
  {
   "cell_type": "code",
   "execution_count": 4,
   "metadata": {},
   "outputs": [],
   "source": [
    "# import libraries\n",
    "import numpy as np\n",
    "import pandas as pd\n",
    "import matplotlib as mpl\n",
    "import matplotlib.pyplot as plt\n",
    "import pylab as pl\n",
    "import seaborn as sns\n",
    "from sklearn import preprocessing\n",
    "from sklearn import metrics\n",
    "\n",
    "#from preprocessing import LabelBinarizer\n",
    "#from preprocessing import OneHotEncoder\n",
    "\n",
    "%matplotlib inline\n",
    "\n",
    "#print('Hello Capstone Project Course!')"
   ]
  },
  {
   "cell_type": "markdown",
   "metadata": {},
   "source": [
    "<h4>Load dataframe from csv file</h4>"
   ]
  },
  {
   "cell_type": "code",
   "execution_count": 5,
   "metadata": {},
   "outputs": [
    {
     "name": "stderr",
     "output_type": "stream",
     "text": [
      "C:\\ProgramData\\Anaconda3\\lib\\site-packages\\IPython\\core\\interactiveshell.py:3071: DtypeWarning: Columns (33) have mixed types.Specify dtype option on import or set low_memory=False.\n",
      "  has_raised = await self.run_ast_nodes(code_ast.body, cell_name,\n"
     ]
    },
    {
     "name": "stdout",
     "output_type": "stream",
     "text": [
      "SEVERITYCODE        int64\n",
      "X                 float64\n",
      "Y                 float64\n",
      "OBJECTID            int64\n",
      "INCKEY              int64\n",
      "COLDETKEY           int64\n",
      "REPORTNO           object\n",
      "STATUS             object\n",
      "ADDRTYPE           object\n",
      "INTKEY            float64\n",
      "LOCATION           object\n",
      "EXCEPTRSNCODE      object\n",
      "EXCEPTRSNDESC      object\n",
      "SEVERITYCODE.1      int64\n",
      "SEVERITYDESC       object\n",
      "COLLISIONTYPE      object\n",
      "PERSONCOUNT         int64\n",
      "PEDCOUNT            int64\n",
      "PEDCYLCOUNT         int64\n",
      "VEHCOUNT            int64\n",
      "INCDATE            object\n",
      "INCDTTM            object\n",
      "JUNCTIONTYPE       object\n",
      "SDOT_COLCODE        int64\n",
      "SDOT_COLDESC       object\n",
      "INATTENTIONIND     object\n",
      "UNDERINFL          object\n",
      "WEATHER            object\n",
      "ROADCOND           object\n",
      "LIGHTCOND          object\n",
      "PEDROWNOTGRNT      object\n",
      "SDOTCOLNUM        float64\n",
      "SPEEDING           object\n",
      "ST_COLCODE         object\n",
      "ST_COLDESC         object\n",
      "SEGLANEKEY          int64\n",
      "CROSSWALKKEY        int64\n",
      "HITPARKEDCAR       object\n",
      "dtype: object\n"
     ]
    },
    {
     "data": {
      "text/html": [
       "<div>\n",
       "<style scoped>\n",
       "    .dataframe tbody tr th:only-of-type {\n",
       "        vertical-align: middle;\n",
       "    }\n",
       "\n",
       "    .dataframe tbody tr th {\n",
       "        vertical-align: top;\n",
       "    }\n",
       "\n",
       "    .dataframe thead th {\n",
       "        text-align: right;\n",
       "    }\n",
       "</style>\n",
       "<table border=\"1\" class=\"dataframe\">\n",
       "  <thead>\n",
       "    <tr style=\"text-align: right;\">\n",
       "      <th></th>\n",
       "      <th>SEVERITYCODE</th>\n",
       "      <th>X</th>\n",
       "      <th>Y</th>\n",
       "      <th>OBJECTID</th>\n",
       "      <th>INCKEY</th>\n",
       "      <th>COLDETKEY</th>\n",
       "      <th>REPORTNO</th>\n",
       "      <th>STATUS</th>\n",
       "      <th>ADDRTYPE</th>\n",
       "      <th>INTKEY</th>\n",
       "      <th>...</th>\n",
       "      <th>ROADCOND</th>\n",
       "      <th>LIGHTCOND</th>\n",
       "      <th>PEDROWNOTGRNT</th>\n",
       "      <th>SDOTCOLNUM</th>\n",
       "      <th>SPEEDING</th>\n",
       "      <th>ST_COLCODE</th>\n",
       "      <th>ST_COLDESC</th>\n",
       "      <th>SEGLANEKEY</th>\n",
       "      <th>CROSSWALKKEY</th>\n",
       "      <th>HITPARKEDCAR</th>\n",
       "    </tr>\n",
       "  </thead>\n",
       "  <tbody>\n",
       "    <tr>\n",
       "      <th>0</th>\n",
       "      <td>2</td>\n",
       "      <td>-122.323148</td>\n",
       "      <td>47.703140</td>\n",
       "      <td>1</td>\n",
       "      <td>1307</td>\n",
       "      <td>1307</td>\n",
       "      <td>3502005</td>\n",
       "      <td>Matched</td>\n",
       "      <td>Intersection</td>\n",
       "      <td>37475.0</td>\n",
       "      <td>...</td>\n",
       "      <td>Wet</td>\n",
       "      <td>Daylight</td>\n",
       "      <td>NaN</td>\n",
       "      <td>NaN</td>\n",
       "      <td>NaN</td>\n",
       "      <td>10</td>\n",
       "      <td>Entering at angle</td>\n",
       "      <td>0</td>\n",
       "      <td>0</td>\n",
       "      <td>N</td>\n",
       "    </tr>\n",
       "    <tr>\n",
       "      <th>1</th>\n",
       "      <td>1</td>\n",
       "      <td>-122.347294</td>\n",
       "      <td>47.647172</td>\n",
       "      <td>2</td>\n",
       "      <td>52200</td>\n",
       "      <td>52200</td>\n",
       "      <td>2607959</td>\n",
       "      <td>Matched</td>\n",
       "      <td>Block</td>\n",
       "      <td>NaN</td>\n",
       "      <td>...</td>\n",
       "      <td>Wet</td>\n",
       "      <td>Dark - Street Lights On</td>\n",
       "      <td>NaN</td>\n",
       "      <td>6354039.0</td>\n",
       "      <td>NaN</td>\n",
       "      <td>11</td>\n",
       "      <td>From same direction - both going straight - bo...</td>\n",
       "      <td>0</td>\n",
       "      <td>0</td>\n",
       "      <td>N</td>\n",
       "    </tr>\n",
       "    <tr>\n",
       "      <th>2</th>\n",
       "      <td>1</td>\n",
       "      <td>-122.334540</td>\n",
       "      <td>47.607871</td>\n",
       "      <td>3</td>\n",
       "      <td>26700</td>\n",
       "      <td>26700</td>\n",
       "      <td>1482393</td>\n",
       "      <td>Matched</td>\n",
       "      <td>Block</td>\n",
       "      <td>NaN</td>\n",
       "      <td>...</td>\n",
       "      <td>Dry</td>\n",
       "      <td>Daylight</td>\n",
       "      <td>NaN</td>\n",
       "      <td>4323031.0</td>\n",
       "      <td>NaN</td>\n",
       "      <td>32</td>\n",
       "      <td>One parked--one moving</td>\n",
       "      <td>0</td>\n",
       "      <td>0</td>\n",
       "      <td>N</td>\n",
       "    </tr>\n",
       "    <tr>\n",
       "      <th>3</th>\n",
       "      <td>1</td>\n",
       "      <td>-122.334803</td>\n",
       "      <td>47.604803</td>\n",
       "      <td>4</td>\n",
       "      <td>1144</td>\n",
       "      <td>1144</td>\n",
       "      <td>3503937</td>\n",
       "      <td>Matched</td>\n",
       "      <td>Block</td>\n",
       "      <td>NaN</td>\n",
       "      <td>...</td>\n",
       "      <td>Dry</td>\n",
       "      <td>Daylight</td>\n",
       "      <td>NaN</td>\n",
       "      <td>NaN</td>\n",
       "      <td>NaN</td>\n",
       "      <td>23</td>\n",
       "      <td>From same direction - all others</td>\n",
       "      <td>0</td>\n",
       "      <td>0</td>\n",
       "      <td>N</td>\n",
       "    </tr>\n",
       "    <tr>\n",
       "      <th>4</th>\n",
       "      <td>2</td>\n",
       "      <td>-122.306426</td>\n",
       "      <td>47.545739</td>\n",
       "      <td>5</td>\n",
       "      <td>17700</td>\n",
       "      <td>17700</td>\n",
       "      <td>1807429</td>\n",
       "      <td>Matched</td>\n",
       "      <td>Intersection</td>\n",
       "      <td>34387.0</td>\n",
       "      <td>...</td>\n",
       "      <td>Wet</td>\n",
       "      <td>Daylight</td>\n",
       "      <td>NaN</td>\n",
       "      <td>4028032.0</td>\n",
       "      <td>NaN</td>\n",
       "      <td>10</td>\n",
       "      <td>Entering at angle</td>\n",
       "      <td>0</td>\n",
       "      <td>0</td>\n",
       "      <td>N</td>\n",
       "    </tr>\n",
       "  </tbody>\n",
       "</table>\n",
       "<p>5 rows × 38 columns</p>\n",
       "</div>"
      ],
      "text/plain": [
       "   SEVERITYCODE           X          Y  OBJECTID  INCKEY  COLDETKEY REPORTNO  \\\n",
       "0             2 -122.323148  47.703140         1    1307       1307  3502005   \n",
       "1             1 -122.347294  47.647172         2   52200      52200  2607959   \n",
       "2             1 -122.334540  47.607871         3   26700      26700  1482393   \n",
       "3             1 -122.334803  47.604803         4    1144       1144  3503937   \n",
       "4             2 -122.306426  47.545739         5   17700      17700  1807429   \n",
       "\n",
       "    STATUS      ADDRTYPE   INTKEY  ... ROADCOND                LIGHTCOND  \\\n",
       "0  Matched  Intersection  37475.0  ...      Wet                 Daylight   \n",
       "1  Matched         Block      NaN  ...      Wet  Dark - Street Lights On   \n",
       "2  Matched         Block      NaN  ...      Dry                 Daylight   \n",
       "3  Matched         Block      NaN  ...      Dry                 Daylight   \n",
       "4  Matched  Intersection  34387.0  ...      Wet                 Daylight   \n",
       "\n",
       "  PEDROWNOTGRNT  SDOTCOLNUM SPEEDING ST_COLCODE  \\\n",
       "0           NaN         NaN      NaN         10   \n",
       "1           NaN   6354039.0      NaN         11   \n",
       "2           NaN   4323031.0      NaN         32   \n",
       "3           NaN         NaN      NaN         23   \n",
       "4           NaN   4028032.0      NaN         10   \n",
       "\n",
       "                                          ST_COLDESC  SEGLANEKEY  \\\n",
       "0                                  Entering at angle           0   \n",
       "1  From same direction - both going straight - bo...           0   \n",
       "2                             One parked--one moving           0   \n",
       "3                   From same direction - all others           0   \n",
       "4                                  Entering at angle           0   \n",
       "\n",
       "   CROSSWALKKEY  HITPARKEDCAR  \n",
       "0             0             N  \n",
       "1             0             N  \n",
       "2             0             N  \n",
       "3             0             N  \n",
       "4             0             N  \n",
       "\n",
       "[5 rows x 38 columns]"
      ]
     },
     "execution_count": 5,
     "metadata": {},
     "output_type": "execute_result"
    }
   ],
   "source": [
    "df = pd.read_csv(\"C:\\\\Users\\\\Natha.000\\\\Documents\\\\JupyterNotebooks\\\\Data-Collisions.csv\")\n",
    "print(df.dtypes)\n",
    "df.head()\n"
   ]
  },
  {
   "cell_type": "markdown",
   "metadata": {},
   "source": [
    "<h3>Identify fields which have inforation useful to categorization of severity</h3>\n",
    "<table>\n",
    "    <tr>\n",
    "        <td>Fieldname</td>\n",
    "        <td>Reason for importance</td>\n",
    "    </tr>\n",
    "    <tr>\n",
    "        <td>SeverityCode</td>\n",
    "        <td>Useful for training the ML Model</td>\n",
    "    </tr>\n",
    "    <tr>\n",
    "        <td>AddrType</td>\n",
    "        <td>Intersections may be more likely to result in a perpendicular collision</td>\n",
    "    </tr>\n",
    "    <tr>\n",
    "        <td>SEVERITYCODE</td>\n",
    "        <td>This is a duplicate, one should be removed.</td>\n",
    "    </tr>\n",
    "    <tr>\n",
    "        <td>SEVERITYDESC</td>\n",
    "        <td>Injury or property damage; assuming that injury is more severe.</td>\n",
    "    </tr>\n",
    "    <tr>\n",
    "        <td>COLLISIONTYPE</td>\n",
    "        <td>Checking to see what types are more servere.</td>\n",
    "    </tr>\n",
    "    <tr>\n",
    "        <td>PERSONCOUNT</td>\n",
    "        <td>Assuming that the more people are involved, the greater the severity, test theory. Includes passengers?</td>\n",
    "    </tr>\n",
    "    <tr>\n",
    "        <td>PEDCOUNT</td>\n",
    "        <td>Hitting a pedestrian is likely more severe since they're squishy</td>\n",
    "    </tr>\n",
    "    <tr>\n",
    "        <td>PEDCYLCOUNT</td>\n",
    "        <td>Assuming that this is bicycles, also lack the protection of a vehicle.</td>\n",
    "    </tr>\n",
    "    <tr>\n",
    "        <td>VEHCOUNT</td>\n",
    "        <td>Greater count = greater severity?</td>\n",
    "    </tr>\n",
    "    <tr>\n",
    "        <td>UNDERINFL</td>\n",
    "        <td>Does influence have an impact on severity? if so, how much?</td>\n",
    "    </tr>\n",
    "    <tr>\n",
    "        <td>WEATHER</td>\n",
    "        <td>What's the effect of the weather? does it matter if it's just overcast and not wet?</td>\n",
    "    </tr>\n",
    "    <tr>\n",
    "        <td>ROADCOND</td>\n",
    "        <td>Wet or dry? </td>\n",
    "    </tr>\n",
    "    <tr>\n",
    "        <td>LIGHTCOND</td>\n",
    "        <td>Visibility is likely a factor.</td>\n",
    "    </tr>\n",
    "    <tr>\n",
    "        <td>SPEEDING</td>\n",
    "        <td>Likely to cause major severity unless cars are going in the same direction.</td>\n",
    "    </tr>\n",
    "    <tr>\n",
    "        <td>HITPARKEDCAR</td>\n",
    "        <td>Check to see if this ever results in a severity greater than 1.</td>\n",
    "    </tr>\n",
    "\n",
    "</table\n",
    "    "
   ]
  },
  {
   "cell_type": "markdown",
   "metadata": {},
   "source": [
    "<h4>Create a dataframe of selected fields</h4>"
   ]
  },
  {
   "cell_type": "code",
   "execution_count": 6,
   "metadata": {},
   "outputs": [
    {
     "name": "stdout",
     "output_type": "stream",
     "text": [
      "OBJECTID\n",
      "[     1      2      3 ... 219545 219546 219547]\n",
      "SEVERITYCODE\n",
      "[2 1]\n",
      "SEVERITYDESC\n",
      "['Injury Collision' 'Property Damage Only Collision']\n",
      "ADDRTYPE\n",
      "['Intersection' 'Block' 'Alley' nan]\n",
      "COLLISIONTYPE\n",
      "['Angles' 'Sideswipe' 'Parked Car' 'Other' 'Cycles' 'Rear Ended' 'Head On'\n",
      " nan 'Left Turn' 'Pedestrian' 'Right Turn']\n",
      "PERSONCOUNT\n",
      "[ 2  4  3  0  1  5  6 16  8  7 11  9 12 17 26 22 10 37 13 36 28 14 53 19\n",
      " 30 29 23 44 15 32 21 41 27 20 35 43 81 18 25 48 24 34 57 39 47 54 31]\n",
      "PEDCOUNT\n",
      "[0 1 2 3 4 5 6]\n",
      "PEDCYLCOUNT\n",
      "[0 1 2]\n",
      "VEHCOUNT\n",
      "[ 2  3  1  0  4  7  5  6  8 11  9 10 12]\n",
      "UNDERINFL\n",
      "['N' '0' nan '1' 'Y']\n",
      "WEATHER\n",
      "['Overcast' 'Raining' 'Clear' nan 'Unknown' 'Other' 'Snowing'\n",
      " 'Fog/Smog/Smoke' 'Sleet/Hail/Freezing Rain' 'Blowing Sand/Dirt'\n",
      " 'Severe Crosswind' 'Partly Cloudy']\n",
      "ROADCOND\n",
      "['Wet' 'Dry' nan 'Unknown' 'Snow/Slush' 'Ice' 'Other' 'Sand/Mud/Dirt'\n",
      " 'Standing Water' 'Oil']\n",
      "LIGHTCOND\n",
      "['Daylight' 'Dark - Street Lights On' 'Dark - No Street Lights' nan\n",
      " 'Unknown' 'Dusk' 'Dawn' 'Dark - Street Lights Off' 'Other'\n",
      " 'Dark - Unknown Lighting']\n",
      "SPEEDING\n",
      "[nan 'Y']\n",
      "HITPARKEDCAR\n",
      "['N' 'Y']\n"
     ]
    }
   ],
   "source": [
    "df_sel = df[['OBJECTID','SEVERITYCODE','SEVERITYDESC','ADDRTYPE','COLLISIONTYPE','PERSONCOUNT','PEDCOUNT','PEDCYLCOUNT','VEHCOUNT','UNDERINFL','WEATHER','ROADCOND','LIGHTCOND','SPEEDING','HITPARKEDCAR']]\n",
    "df_sel.head()\n",
    "\n",
    "# view unique values for each field\n",
    "columns = list(df_sel)\n",
    "for i in columns:\n",
    "    print(i)\n",
    "    print(df_sel[i].unique())"
   ]
  },
  {
   "cell_type": "markdown",
   "metadata": {},
   "source": [
    "### Notes on data"
   ]
  },
  {
   "cell_type": "markdown",
   "metadata": {},
   "source": [
    "<b>Looks like a few of the columns could use some cleanup</b>\n",
    "<list>\n",
    "    <ol><b><i>UNDERINFL</i></b> - looks like this has both text and boolean values - make all these bool (0 or 1).</ol>\n",
    "    <ol><b><i>SEVERITYCODE</i></b> - I'm surprised that this is only limited to 1 (peroperty) or 2 (injury).</ol>\n",
    "    <ol><b><i>SPEEDING</i></b> - need to fix this data, nans to 0, 'Y's to 1.</ol>\n",
    "    <ol><b><i>HITPARKEDCAR</i></b> - change to bool (0 or 1).</ol>\n",
    "    <ol><b><i>PERSONCOUNT, PEDCOUNT, PEDCYLCOUNT, AND VEHCOUNT</i></b> - probably not necessary if we're just classifying severity as injury or property damage. Would only be useful if we're creating an injury-severity rating.</ol>\n",
    "    <ol><b><i>COLLISIONTYPE, WEATHER, ROADCOND, AND LIGHTCOND</i></b> - need to check correlations between severity and these types. High correlation items may be selected and used for ML. One hot encoding?</ol>\n",
    "</list>\n",
    "    "
   ]
  },
  {
   "cell_type": "markdown",
   "metadata": {},
   "source": [
    "### Clean/Standardize data"
   ]
  },
  {
   "cell_type": "code",
   "execution_count": 29,
   "metadata": {},
   "outputs": [
    {
     "name": "stdout",
     "output_type": "stream",
     "text": [
      "OBJECTID\n",
      "[     1      2      3 ... 219545 219546 219547]\n",
      "SEVERITYCODE\n",
      "[2 1]\n",
      "SEVERITYDESC\n",
      "['Injury Collision' 'Property Damage Only Collision']\n",
      "ADDRTYPE\n",
      "['Intersection' 'Block' 'Alley' nan]\n",
      "COLLISIONTYPE\n",
      "['Angles' 'Sideswipe' 'Parked Car' 'Other' 'Cycles' 'Rear Ended' 'Head On'\n",
      " 'Unknown' 'Left Turn' 'Pedestrian' 'Right Turn']\n",
      "PERSONCOUNT\n",
      "[ 2  4  3  0  1  5  6 16  8  7 11  9 12 17 26 22 10 37 13 36 28 14 53 19\n",
      " 30 29 23 44 15 32 21 41 27 20 35 43 81 18 25 48 24 34 57 39 47 54 31]\n",
      "PEDCOUNT\n",
      "[0 1 2 3 4 5 6]\n",
      "PEDCYLCOUNT\n",
      "[0 1 2]\n",
      "VEHCOUNT\n",
      "[ 2  3  1  0  4  7  5  6  8 11  9 10 12]\n",
      "UNDERINFL\n",
      "[0 1]\n",
      "WEATHER\n",
      "['Overcast' 'Raining' 'Clear' 'Unknown' 'Other' 'Snowing' 'Fog/Smog/Smoke'\n",
      " 'Sleet/Hail/Freezing Rain' 'Blowing Sand/Dirt' 'Severe Crosswind'\n",
      " 'Partly Cloudy']\n",
      "ROADCOND\n",
      "['Wet' 'Dry' 'Unknown' 'Snow/Slush' 'Ice' 'Other' 'Sand/Mud/Dirt'\n",
      " 'Standing Water' 'Oil']\n",
      "LIGHTCOND\n",
      "['Daylight' 'Dark - Street Lights On' 'Dark - No Street Lights' 'Unknown'\n",
      " 'twilight' 'Dark - Street Lights Off' 'Other' 'Dark - Unknown Lighting']\n",
      "SPEEDING\n",
      "[0 1]\n",
      "HITPARKEDCAR\n",
      "[0 1]\n"
     ]
    }
   ],
   "source": [
    "# replace nans\n",
    "df_sel.replace(np.nan,0)\n",
    "\n",
    "# standardize bool columns\n",
    "df_sel = df_sel.replace(['Y','1'],1)\n",
    "df_sel = df_sel.replace(['N','0'],0)\n",
    "\n",
    "# fix under influence column to int bool values (from float)\n",
    "df_sel['UNDERINFL'] = df_sel['UNDERINFL'].replace(np.nan,0)\n",
    "df_sel['UNDERINFL'] = df_sel['UNDERINFL'].astype(int)\n",
    "df_sel['SPEEDING'] = df_sel['SPEEDING'].replace(np.nan,0)\n",
    "df_sel['SPEEDING'] = df_sel['SPEEDING'].astype(int)\n",
    "\n",
    "# fix test fields; nans to 'unknown's\n",
    "txtFields = ['ROADCOND','COLLISIONTYPE','WEATHER','LIGHTCOND']\n",
    "numFields = ['SEVERITYCODE','PERSONCOUNT','PEDCOUNT','PEDCYLCOUNT','VEHCOUNT','UNDERINFL','SPEEDING','HITPARKEDCAR']\n",
    "for i in txtFields:\n",
    "    df_sel[i] = df_sel[i].replace(np.nan,'Unknown')\n",
    "    \n",
    "# standardize dawn and dusk to twilight\n",
    "df_sel['LIGHTCOND'] = df_sel['LIGHTCOND'].replace('Dawn','twilight')\n",
    "df_sel['LIGHTCOND'] = df_sel['LIGHTCOND'].replace('Dusk','twilight')\n",
    "    \n",
    "# View standardized data\n",
    "for i in columns:\n",
    "    print(i)\n",
    "    print(df_sel[i].unique())"
   ]
  },
  {
   "cell_type": "markdown",
   "metadata": {},
   "source": [
    "### Exploratory Analysis"
   ]
  },
  {
   "cell_type": "code",
   "execution_count": 8,
   "metadata": {},
   "outputs": [
    {
     "name": "stdout",
     "output_type": "stream",
     "text": [
      "The numeric values seem to have little impact on the severity as the values do not vary widely. Possibly speeding and under the influence if combined with other conditions.\n"
     ]
    },
    {
     "data": {
      "image/png": "[encoded data removed]",
      "text/plain": [
       "<Figure size 1080x720 with 9 Axes>"
      ]
     },
     "metadata": {
      "needs_background": "light"
     },
     "output_type": "display_data"
    }
   ],
   "source": [
    "# np.histogram \n",
    "#df_sel['VEHCOUNT'].plot(kind='hist', figsize=(4, 3))\n",
    "\n",
    "hdf = df_sel[numFields]\n",
    "viz = hdf[numFields]\n",
    "viz.hist(figsize=(15, 10))\n",
    "#viz.show()\n",
    "\n",
    "#print(df_sel.describe())\n",
    "\n",
    "print(\"The numeric values seem to have little impact on the severity as the values do not vary widely. Possibly speeding and under the influence if combined with other conditions.\")"
   ]
  },
  {
   "cell_type": "markdown",
   "metadata": {},
   "source": [
    "## Questions\n",
    "\n",
    "Are there incidents of collisions with pedestrians or cyclists where there is no injury?<br>\n",
    "What is the rate of collisions under the influence where there is no injury?<br>\n",
    "What happened in the instances where there were more than 10 people in an accident? (outliers?)<br>\n",
    "Number of incidents where speeding is involved is low, but what's the rate of injury where it does happen?<br>\n",
    "Number of incidents where a pedestrian is involved is low, but what's the rate of injury where it does happen?<br>\n",
    "What about collisions where no vehicle is involved?<br>"
   ]
  },
  {
   "cell_type": "code",
   "execution_count": 9,
   "metadata": {},
   "outputs": [
    {
     "name": "stdout",
     "output_type": "stream",
     "text": [
      "normalized severity code for weather\n",
      "                          SEVERITYCODE\n",
      "WEATHER                               \n",
      "Blowing Sand/Dirt             1.267857\n",
      "Clear                         1.322491\n",
      "Fog/Smog/Smoke                1.328647\n",
      "Other                         1.139423\n",
      "Overcast                      1.315544\n",
      "Partly Cloudy                 1.600000\n",
      "Raining                       1.337185\n",
      "Severe Crosswind              1.280000\n",
      "Sleet/Hail/Freezing Rain      1.247788\n",
      "Snowing                       1.188534\n",
      "Unknown                       1.094190\n",
      " \n",
      "Normalized severity by weather type\n",
      "WEATHER                   SEVERITYCODE\n",
      "Blowing Sand/Dirt         1               0.732143\n",
      "                          2               0.267857\n",
      "Clear                     1               0.677509\n",
      "                          2               0.322491\n",
      "Fog/Smog/Smoke            1               0.671353\n",
      "                          2               0.328647\n",
      "Other                     1               0.860577\n",
      "                          2               0.139423\n",
      "Overcast                  1               0.684456\n",
      "                          2               0.315544\n",
      "Partly Cloudy             2               0.600000\n",
      "                          1               0.400000\n",
      "Raining                   1               0.662815\n",
      "                          2               0.337185\n",
      "Severe Crosswind          1               0.720000\n",
      "                          2               0.280000\n",
      "Sleet/Hail/Freezing Rain  1               0.752212\n",
      "                          2               0.247788\n",
      "Snowing                   1               0.811466\n",
      "                          2               0.188534\n",
      "Unknown                   1               0.945928\n",
      "                          2               0.054072\n",
      "Name: SEVERITYCODE, dtype: float64\n",
      "Higher severity collisions have a tendency to happen more when the weather is partly cloudy.\n",
      "Higher avg severity for partially cloudy days. Dark (reduced visibility), but not enough for headlights?\n",
      " \n",
      "Is it possible that the weather condition of partially cloudy is not a contributing factor but merely the most likely state of weather for Seattle?\n"
     ]
    },
    {
     "data": {
      "image/png": "[encoded data removed]",
      "text/plain": [
       "<Figure size 288x216 with 1 Axes>"
      ]
     },
     "metadata": {
      "needs_background": "light"
     },
     "output_type": "display_data"
    }
   ],
   "source": [
    "# Create ID for weather values\n",
    "w = df_sel['WEATHER'].unique()\n",
    "#wf.groupby(by='WEATHER').agg('count')\n",
    "wf = pd.DataFrame()\n",
    "wf['WEATHER']=w\n",
    "wf[\"wId\"] = wf.index + 1\n",
    "#print(wf)\n",
    "\n",
    "# add wId field ot df_sel\n",
    "df_sel['wId'] = 0\n",
    "\n",
    "# update column wId in df_sel based on 'WEATHER'\n",
    "for index, row in wf.iterrows():\n",
    "    wid = row['wId']\n",
    "    wea = row['WEATHER']\n",
    "    df_sel['wId'] = np.where((df_sel['WEATHER'] == wea), wid, df_sel['wId'])      #This is the column that is affected\n",
    "#print(df_sel[['WEATHER','wId']][0:20])\n",
    "\n",
    "wwf = df_sel[['WEATHER','SEVERITYCODE']]\n",
    "w = wwf.groupby(by='WEATHER').agg('mean')\n",
    "w.plot(kind='hist', figsize=(4, 3))\n",
    "print('normalized severity code for weather')\n",
    "print(w)\n",
    "\n",
    "\n",
    "print(' ')\n",
    "print('Normalized severity by weather type')\n",
    "print(df.groupby(['WEATHER'])['SEVERITYCODE'].value_counts(normalize=True))\n",
    "print('Higher severity collisions have a tendency to happen more when the weather is partly cloudy.')\n",
    "\n",
    "print('Higher avg severity for partially cloudy days. Dark (reduced visibility), but not enough for headlights?')\n",
    "print(' ')\n",
    "print('Is it possible that the weather condition of partially cloudy is not a contributing factor but merely the most likely state of weather for Seattle?')\n"
   ]
  },
  {
   "cell_type": "code",
   "execution_count": 10,
   "metadata": {},
   "outputs": [
    {
     "name": "stdout",
     "output_type": "stream",
     "text": [
      "               SEVERITYCODE\n",
      "COLLISIONTYPE              \n",
      "Angles             1.392917\n",
      "Cycles             1.876085\n",
      "Head On            1.430830\n",
      "Left Turn          1.394877\n",
      "Other              1.257858\n",
      "Parked Car         1.055473\n",
      "Pedestrian         1.898305\n",
      "Rear Ended         1.430361\n",
      "Right Turn         1.206022\n",
      "Sideswipe          1.134666\n",
      "Unknown            1.212276\n",
      "Collisions with cycles and pedestrians have a much higher probablity of being an injury (sev type 2)\n",
      "COLLISIONTYPE  SEVERITYCODE\n",
      "Angles         1               0.607083\n",
      "               2               0.392917\n",
      "Cycles         2               0.876085\n",
      "               1               0.123915\n",
      "Head On        1               0.569170\n",
      "               2               0.430830\n",
      "Left Turn      1               0.605123\n",
      "               2               0.394877\n",
      "Other          1               0.742142\n",
      "               2               0.257858\n",
      "Parked Car     1               0.944527\n",
      "               2               0.055473\n",
      "Pedestrian     2               0.898305\n",
      "               1               0.101695\n",
      "Rear Ended     1               0.569639\n",
      "               2               0.430361\n",
      "Right Turn     1               0.793978\n",
      "               2               0.206022\n",
      "Sideswipe      1               0.865334\n",
      "               2               0.134666\n",
      "Name: SEVERITYCODE, dtype: float64\n",
      "Higher avg severity for pedestrian and cycle collisions; more likely to be injuries\n"
     ]
    },
    {
     "data": {
      "image/png": "[encoded data removed]",
      "text/plain": [
       "<Figure size 288x216 with 1 Axes>"
      ]
     },
     "metadata": {
      "needs_background": "light"
     },
     "output_type": "display_data"
    }
   ],
   "source": [
    "# Create ID for collision type values\n",
    "c = df_sel['COLLISIONTYPE'].unique()\n",
    "cf = pd.DataFrame()\n",
    "cf['COLLISIONTYPE']=c\n",
    "cf[\"cId\"] = cf.index + 1\n",
    "#print(cf)\n",
    "\n",
    "# add cId field ot df_sel\n",
    "df_sel['cId'] = 0\n",
    "\n",
    "# update column cId in df_sel based on 'collision type'\n",
    "for index, row in cf.iterrows():\n",
    "    cid = row['cId']\n",
    "    col = row['COLLISIONTYPE']\n",
    "    df_sel['cId'] = np.where((df_sel['COLLISIONTYPE'] == col), cid, df_sel['cId'])      #This is the column that is affected\n",
    "#print(df_sel[['COLLISIONTYPE','cId']][0:20])\n",
    "\n",
    "ccf = df_sel[['COLLISIONTYPE','SEVERITYCODE']]\n",
    "c = ccf.groupby(by='COLLISIONTYPE').agg('mean')\n",
    "c.plot(kind='hist', figsize=(4, 3))\n",
    "print(c)\n",
    "print('Collisions with cycles and pedestrians have a much higher probablity of being an injury (sev type 2)')\n",
    "\n",
    "\n",
    "print(df.groupby(['COLLISIONTYPE'])['SEVERITYCODE'].value_counts(normalize=True))\n",
    "\n",
    "print('Higher avg severity for pedestrian and cycle collisions; more likely to be injuries')"
   ]
  },
  {
   "cell_type": "code",
   "execution_count": 11,
   "metadata": {},
   "outputs": [
    {
     "name": "stdout",
     "output_type": "stream",
     "text": [
      "                SEVERITYCODE\n",
      "ROADCOND                    \n",
      "Dry                 1.321773\n",
      "Ice                 1.225806\n",
      "Oil                 1.375000\n",
      "Other               1.325758\n",
      "Sand/Mud/Dirt       1.306667\n",
      "Snow/Slush          1.166335\n",
      "Standing Water      1.260870\n",
      "Unknown             1.090045\n",
      "Wet                 1.331866\n",
      "No single road condition exceeds 1.5; unable to see clear factor for severity\n"
     ]
    },
    {
     "data": {
      "image/png": "[encoded data removed]",
      "text/plain": [
       "<Figure size 288x216 with 1 Axes>"
      ]
     },
     "metadata": {
      "needs_background": "light"
     },
     "output_type": "display_data"
    }
   ],
   "source": [
    "# Create ID for road conditions values\n",
    "r = df_sel['ROADCOND'].unique()\n",
    "rf = pd.DataFrame()\n",
    "rf['ROADCOND']=r\n",
    "rf[\"rId\"] = rf.index + 1\n",
    "#print(rf)\n",
    "\n",
    "# add rId field ot df_sel\n",
    "df_sel['rId'] = 0\n",
    "\n",
    "# update column wId in df_sel based on 'WEATHER'\n",
    "for index, row in rf.iterrows():\n",
    "    rid = row['rId']\n",
    "    roa = row['ROADCOND']\n",
    "    df_sel['rId'] = np.where((df_sel['ROADCOND'] == roa), rid, df_sel['rId'])      #This is the column that is affected\n",
    "#print(df_sel[['ROADCOND','rId']][0:20])\n",
    "\n",
    "rrf = df_sel[['ROADCOND','SEVERITYCODE']]\n",
    "\n",
    "h = rrf.groupby(by='ROADCOND').agg('mean')\n",
    "h.plot(kind='hist', figsize=(4, 3))\n",
    "print(h)\n",
    "\n",
    "print('No single road condition exceeds 1.5; unable to see clear factor for severity')"
   ]
  },
  {
   "cell_type": "code",
   "execution_count": 12,
   "metadata": {},
   "outputs": [],
   "source": [
    "#more testing for road conditions\n",
    "\n",
    "#print(df_sel['ROADCOND'].value_counts(normalize=True))\n",
    "\n",
    "#df_selR = df_sel[['ROADCOND','SEVERITYCODE']]\n",
    "#dfr = df_selR.melt(var_name='ROADCOND', value_name='SEVERITYCODE')\n",
    "#dfrx = pd.crosstab(index=dfr['SEVERITYCODE'], columns=dfr['ROADCOND'])\n",
    "#print(dfrx)"
   ]
  },
  {
   "cell_type": "code",
   "execution_count": 32,
   "metadata": {
    "scrolled": true
   },
   "outputs": [
    {
     "name": "stdout",
     "output_type": "stream",
     "text": [
      "                          SEVERITYCODE\n",
      "LIGHTCOND                             \n",
      "Dark - No Street Lights       1.217306\n",
      "Dark - Street Lights Off      1.263553\n",
      "Dark - Street Lights On       1.298411\n",
      "Dark - Unknown Lighting       1.363636\n",
      "Daylight                      1.331884\n",
      "Other                         1.221277\n",
      "Unknown                       1.090919\n",
      "twilight                      1.329367\n",
      "LIGHTCOND                 SEVERITYCODE\n",
      "Dark - No Street Lights   1               0.782694\n",
      "                          2               0.217306\n",
      "Dark - Street Lights Off  1               0.736447\n",
      "                          2               0.263553\n",
      "Dark - Street Lights On   1               0.701589\n",
      "                          2               0.298411\n",
      "Dark - Unknown Lighting   1               0.636364\n",
      "                          2               0.363636\n",
      "Daylight                  1               0.668116\n",
      "                          2               0.331884\n",
      "Other                     1               0.778723\n",
      "                          2               0.221277\n",
      "Unknown                   1               0.909081\n",
      "                          2               0.090919\n",
      "twilight                  1               0.670633\n",
      "                          2               0.329367\n",
      "Name: SEVERITYCODE, dtype: float64\n",
      "No single road condition exceeds 1.5; unable to see clear factor for severity\n"
     ]
    },
    {
     "data": {
      "image/png": "[encoded data removed]",
      "text/plain": [
       "<Figure size 288x216 with 1 Axes>"
      ]
     },
     "metadata": {
      "needs_background": "light"
     },
     "output_type": "display_data"
    }
   ],
   "source": [
    "# Create ID for light conditions values\n",
    "l = df_sel['LIGHTCOND'].unique()\n",
    "lf = pd.DataFrame()\n",
    "lf['LIGHTCOND']=l\n",
    "lf[\"lId\"] = lf.index + 1\n",
    "#print(lf)\n",
    "\n",
    "# add rId field ot df_sel\n",
    "df_sel['lId'] = 0\n",
    "\n",
    "# update column wId in df_sel based on 'WEATHER'\n",
    "for index, row in lf.iterrows():\n",
    "    lid = row['lId']\n",
    "    lig = row['LIGHTCOND']\n",
    "    df_sel['lId'] = np.where((df_sel['LIGHTCOND'] == lig), lid, df_sel['lId'])      #This is the column that is affected\n",
    "#print(df_sel[['ROADCOND','rId']][0:20])\n",
    "\n",
    "llf = df_sel[['LIGHTCOND','SEVERITYCODE']]\n",
    "\n",
    "l = llf.groupby(by='LIGHTCOND').agg('mean')\n",
    "l.plot(kind='hist', figsize=(4, 3))\n",
    "print(l)\n",
    "\n",
    "\n",
    "print(df_sel.groupby(['LIGHTCOND'])['SEVERITYCODE'].value_counts(normalize=True))\n",
    "\n",
    "print('No single road condition exceeds 1.5; unable to see clear factor for severity')"
   ]
  },
  {
   "cell_type": "markdown",
   "metadata": {},
   "source": [
    "#### Vehicle Count"
   ]
  },
  {
   "cell_type": "code",
   "execution_count": 14,
   "metadata": {
    "scrolled": true
   },
   "outputs": [
    {
     "name": "stdout",
     "output_type": "stream",
     "text": [
      "VEHCOUNT  SEVERITYCODE\n",
      "0         1               0.758702\n",
      "          2               0.241298\n",
      "1         2               0.547810\n",
      "          1               0.452190\n",
      "2         1               0.756526\n",
      "          2               0.243474\n",
      "3         1               0.579554\n",
      "          2               0.420446\n",
      "4         1               0.555647\n",
      "          2               0.444353\n",
      "5         1               0.506616\n",
      "          2               0.493384\n",
      "6         1               0.589041\n",
      "          2               0.410959\n",
      "7         1               0.521739\n",
      "          2               0.478261\n",
      "8         1               0.666667\n",
      "          2               0.333333\n",
      "9         2               0.666667\n",
      "          1               0.333333\n",
      "10        2               1.000000\n",
      "11        1               0.500000\n",
      "          2               0.500000\n",
      "12        1               1.000000\n",
      "Name: SEVERITYCODE, dtype: float64\n",
      "High severity vehicle counts appear to be primarily single vehicles; but that's probably because the vast number of incidents only involve one vehicle.\n"
     ]
    }
   ],
   "source": [
    "print(df.groupby(['VEHCOUNT'])['SEVERITYCODE'].value_counts(normalize=True))\n",
    "print('High severity vehicle counts appear to be primarily single vehicles; but that\\'s probably because the vast number of incidents only involve one vehicle.')"
   ]
  },
  {
   "cell_type": "code",
   "execution_count": null,
   "metadata": {},
   "outputs": [],
   "source": []
  },
  {
   "cell_type": "code",
   "execution_count": 15,
   "metadata": {},
   "outputs": [
    {
     "name": "stdout",
     "output_type": "stream",
     "text": [
      "ADDRTYPE      SEVERITYCODE\n",
      "Alley         1               0.890812\n",
      "              2               0.109188\n",
      "Block         1               0.762885\n",
      "              2               0.237115\n",
      "Intersection  1               0.572476\n",
      "              2               0.427524\n",
      "Name: SEVERITYCODE, dtype: float64\n",
      "Intersections appear to have a greater impact on injury that alley or block.\n"
     ]
    }
   ],
   "source": [
    "print(df.groupby(['ADDRTYPE'])['SEVERITYCODE'].value_counts(normalize=True))\n",
    "print('Intersections appear to have a greater impact on injury that alley or block.')"
   ]
  },
  {
   "cell_type": "markdown",
   "metadata": {},
   "source": [
    "### Attempting one hot encoding for two of the text related variables"
   ]
  },
  {
   "cell_type": "markdown",
   "metadata": {},
   "source": [
    "#### Weather"
   ]
  },
  {
   "cell_type": "code",
   "execution_count": 16,
   "metadata": {},
   "outputs": [
    {
     "data": {
      "text/html": [
       "<div>\n",
       "<style scoped>\n",
       "    .dataframe tbody tr th:only-of-type {\n",
       "        vertical-align: middle;\n",
       "    }\n",
       "\n",
       "    .dataframe tbody tr th {\n",
       "        vertical-align: top;\n",
       "    }\n",
       "\n",
       "    .dataframe thead th {\n",
       "        text-align: right;\n",
       "    }\n",
       "</style>\n",
       "<table border=\"1\" class=\"dataframe\">\n",
       "  <thead>\n",
       "    <tr style=\"text-align: right;\">\n",
       "      <th></th>\n",
       "      <th>PERSONCOUNT</th>\n",
       "      <th>PEDCOUNT</th>\n",
       "      <th>PEDCYLCOUNT</th>\n",
       "      <th>UNDERINFL</th>\n",
       "      <th>SPEEDING</th>\n",
       "      <th>HITPARKEDCAR</th>\n",
       "      <th>Blowing Sand/Dirt</th>\n",
       "      <th>Clear</th>\n",
       "      <th>Fog/Smog/Smoke</th>\n",
       "      <th>Overcast</th>\n",
       "      <th>Partly Cloudy</th>\n",
       "      <th>Raining</th>\n",
       "      <th>Severe Crosswind</th>\n",
       "      <th>Sleet/Hail/Freezing Rain</th>\n",
       "      <th>Snowing</th>\n",
       "    </tr>\n",
       "  </thead>\n",
       "  <tbody>\n",
       "    <tr>\n",
       "      <th>0</th>\n",
       "      <td>2</td>\n",
       "      <td>0</td>\n",
       "      <td>0</td>\n",
       "      <td>0</td>\n",
       "      <td>0</td>\n",
       "      <td>0</td>\n",
       "      <td>0</td>\n",
       "      <td>0</td>\n",
       "      <td>0</td>\n",
       "      <td>1</td>\n",
       "      <td>0</td>\n",
       "      <td>0</td>\n",
       "      <td>0</td>\n",
       "      <td>0</td>\n",
       "      <td>0</td>\n",
       "    </tr>\n",
       "    <tr>\n",
       "      <th>1</th>\n",
       "      <td>2</td>\n",
       "      <td>0</td>\n",
       "      <td>0</td>\n",
       "      <td>0</td>\n",
       "      <td>0</td>\n",
       "      <td>0</td>\n",
       "      <td>0</td>\n",
       "      <td>0</td>\n",
       "      <td>0</td>\n",
       "      <td>0</td>\n",
       "      <td>0</td>\n",
       "      <td>1</td>\n",
       "      <td>0</td>\n",
       "      <td>0</td>\n",
       "      <td>0</td>\n",
       "    </tr>\n",
       "    <tr>\n",
       "      <th>2</th>\n",
       "      <td>4</td>\n",
       "      <td>0</td>\n",
       "      <td>0</td>\n",
       "      <td>0</td>\n",
       "      <td>0</td>\n",
       "      <td>0</td>\n",
       "      <td>0</td>\n",
       "      <td>0</td>\n",
       "      <td>0</td>\n",
       "      <td>1</td>\n",
       "      <td>0</td>\n",
       "      <td>0</td>\n",
       "      <td>0</td>\n",
       "      <td>0</td>\n",
       "      <td>0</td>\n",
       "    </tr>\n",
       "    <tr>\n",
       "      <th>3</th>\n",
       "      <td>3</td>\n",
       "      <td>0</td>\n",
       "      <td>0</td>\n",
       "      <td>0</td>\n",
       "      <td>0</td>\n",
       "      <td>0</td>\n",
       "      <td>0</td>\n",
       "      <td>1</td>\n",
       "      <td>0</td>\n",
       "      <td>0</td>\n",
       "      <td>0</td>\n",
       "      <td>0</td>\n",
       "      <td>0</td>\n",
       "      <td>0</td>\n",
       "      <td>0</td>\n",
       "    </tr>\n",
       "    <tr>\n",
       "      <th>4</th>\n",
       "      <td>2</td>\n",
       "      <td>0</td>\n",
       "      <td>0</td>\n",
       "      <td>0</td>\n",
       "      <td>0</td>\n",
       "      <td>0</td>\n",
       "      <td>0</td>\n",
       "      <td>0</td>\n",
       "      <td>0</td>\n",
       "      <td>0</td>\n",
       "      <td>0</td>\n",
       "      <td>1</td>\n",
       "      <td>0</td>\n",
       "      <td>0</td>\n",
       "      <td>0</td>\n",
       "    </tr>\n",
       "  </tbody>\n",
       "</table>\n",
       "</div>"
      ],
      "text/plain": [
       "   PERSONCOUNT  PEDCOUNT  PEDCYLCOUNT  UNDERINFL  SPEEDING  HITPARKEDCAR  \\\n",
       "0            2         0            0          0         0             0   \n",
       "1            2         0            0          0         0             0   \n",
       "2            4         0            0          0         0             0   \n",
       "3            3         0            0          0         0             0   \n",
       "4            2         0            0          0         0             0   \n",
       "\n",
       "   Blowing Sand/Dirt  Clear  Fog/Smog/Smoke  Overcast  Partly Cloudy  Raining  \\\n",
       "0                  0      0               0         1              0        0   \n",
       "1                  0      0               0         0              0        1   \n",
       "2                  0      0               0         1              0        0   \n",
       "3                  0      1               0         0              0        0   \n",
       "4                  0      0               0         0              0        1   \n",
       "\n",
       "   Severe Crosswind  Sleet/Hail/Freezing Rain  Snowing  \n",
       "0                 0                         0        0  \n",
       "1                 0                         0        0  \n",
       "2                 0                         0        0  \n",
       "3                 0                         0        0  \n",
       "4                 0                         0        0  "
      ]
     },
     "execution_count": 16,
     "metadata": {},
     "output_type": "execute_result"
    }
   ],
   "source": [
    "\n",
    "Feature = df_sel[['PERSONCOUNT','PEDCOUNT','PEDCYLCOUNT','UNDERINFL','SPEEDING','HITPARKEDCAR']]\n",
    "Feature = pd.concat([Feature,pd.get_dummies(df['WEATHER'])], axis=1)\n",
    "Feature.drop(['Unknown'], axis = 1,inplace=True)\n",
    "Feature.drop(['Other'], axis = 1,inplace=True)\n",
    "Feature.head()"
   ]
  },
  {
   "cell_type": "code",
   "execution_count": 17,
   "metadata": {},
   "outputs": [],
   "source": [
    "X = Feature\n",
    "y = df_sel['SEVERITYCODE']\n",
    "\n",
    "# Normalize data\n",
    "\n",
    "X= preprocessing.StandardScaler().fit(X).transform(X)"
   ]
  },
  {
   "cell_type": "code",
   "execution_count": 18,
   "metadata": {},
   "outputs": [
    {
     "name": "stdout",
     "output_type": "stream",
     "text": [
      "Train set: (155738, 15) (155738,)\n",
      "Test set: (38935, 15) (38935,)\n"
     ]
    }
   ],
   "source": [
    "from sklearn.model_selection import train_test_split\n",
    "X_train, X_test, y_train, y_test = train_test_split( X, y, test_size=0.2,random_state=4)\n",
    "\n",
    "print ('Train set:', X_train.shape, y_train.shape)\n",
    "print ('Test set:', X_test.shape, y_test.shape)"
   ]
  },
  {
   "cell_type": "markdown",
   "metadata": {},
   "source": [
    "### Testing with KNN"
   ]
  },
  {
   "cell_type": "code",
   "execution_count": 19,
   "metadata": {},
   "outputs": [
    {
     "name": "stdout",
     "output_type": "stream",
     "text": [
      "KNeighborsClassifier(n_neighbors=8)\n"
     ]
    }
   ],
   "source": [
    "from sklearn.neighbors import KNeighborsClassifier\n",
    "\n",
    "# k = 8 appears to have the best test set accuracy (75.0%)\n",
    "k = 8\n",
    "# train\n",
    "neigh = KNeighborsClassifier(n_neighbors = k).fit(X_train,y_train)\n",
    "print(neigh)"
   ]
  },
  {
   "cell_type": "code",
   "execution_count": 20,
   "metadata": {},
   "outputs": [
    {
     "name": "stdout",
     "output_type": "stream",
     "text": [
      "Train set acc:  0.7472999524843006\n",
      "Test set acc:  0.7503017850263259\n"
     ]
    }
   ],
   "source": [
    "yhat = neigh.predict(X_test)\n",
    "yhat[0:5]\n",
    "\n",
    "# Accuracty of selected K (K = 8)\n",
    "print(\"Train set acc: \", metrics.accuracy_score(y_train, neigh.predict(X_train)))\n",
    "print(\"Test set acc: \", metrics.accuracy_score(y_test, yhat))"
   ]
  },
  {
   "cell_type": "code",
   "execution_count": 21,
   "metadata": {},
   "outputs": [
    {
     "name": "stdout",
     "output_type": "stream",
     "text": [
      "[0.7143701  0.73317067 0.71668165 0.74267369 0.73049955 0.7493258\n",
      " 0.74311031 0.75030179 0.74768203]\n"
     ]
    },
    {
     "data": {
      "image/png": "[encoded data removed]",
      "text/plain": [
       "<Figure size 432x288 with 1 Axes>"
      ]
     },
     "metadata": {
      "needs_background": "light"
     },
     "output_type": "display_data"
    }
   ],
   "source": [
    "Ks = 10\n",
    "mean_acc = np.zeros((Ks-1))\n",
    "std_acc = np.zeros((Ks-1))\n",
    "ConfustionMx = [];\n",
    "for n in range(1,Ks):\n",
    "    #Train Model and Predict\n",
    "    neigh = KNeighborsClassifier(n_neighbors = n).fit(X_train,y_train)\n",
    "    yhat=neigh.predict(X_test)\n",
    "    mean_acc[n-1] = metrics.accuracy_score(y_test, yhat)\n",
    "    std_acc[n-1]=np.std(yhat==y_test)/np.sqrt(yhat.shape[0])\n",
    "    \n",
    "print(mean_acc)\n",
    "\n",
    "# Accuracy for K neighbors chart\n",
    "plt.plot(range(1,Ks),mean_acc,'g')\n",
    "plt.fill_between(range(1,Ks),mean_acc - 1 * std_acc,mean_acc + 1 * std_acc,alpha=0.10)\n",
    "plt.legend(('Accuracy ', '± 3x std'))\n",
    "plt.ylabel('Accuracy ')\n",
    "plt.xlabel('# of Neighbors (K)')\n",
    "plt.tight_layout()\n",
    "plt.show()"
   ]
  },
  {
   "cell_type": "code",
   "execution_count": null,
   "metadata": {},
   "outputs": [],
   "source": [
    "\n",
    "\n"
   ]
  },
  {
   "cell_type": "code",
   "execution_count": null,
   "metadata": {},
   "outputs": [],
   "source": []
  },
  {
   "cell_type": "code",
   "execution_count": null,
   "metadata": {},
   "outputs": [],
   "source": []
  },
  {
   "cell_type": "markdown",
   "metadata": {},
   "source": [
    "#### Collision Type"
   ]
  },
  {
   "cell_type": "code",
   "execution_count": 22,
   "metadata": {},
   "outputs": [
    {
     "data": {
      "text/html": [
       "<div>\n",
       "<style scoped>\n",
       "    .dataframe tbody tr th:only-of-type {\n",
       "        vertical-align: middle;\n",
       "    }\n",
       "\n",
       "    .dataframe tbody tr th {\n",
       "        vertical-align: top;\n",
       "    }\n",
       "\n",
       "    .dataframe thead th {\n",
       "        text-align: right;\n",
       "    }\n",
       "</style>\n",
       "<table border=\"1\" class=\"dataframe\">\n",
       "  <thead>\n",
       "    <tr style=\"text-align: right;\">\n",
       "      <th></th>\n",
       "      <th>PERSONCOUNT</th>\n",
       "      <th>PEDCOUNT</th>\n",
       "      <th>PEDCYLCOUNT</th>\n",
       "      <th>UNDERINFL</th>\n",
       "      <th>SPEEDING</th>\n",
       "      <th>HITPARKEDCAR</th>\n",
       "      <th>Angles</th>\n",
       "      <th>Cycles</th>\n",
       "      <th>Head On</th>\n",
       "      <th>Left Turn</th>\n",
       "      <th>Other</th>\n",
       "      <th>Parked Car</th>\n",
       "      <th>Pedestrian</th>\n",
       "      <th>Rear Ended</th>\n",
       "      <th>Right Turn</th>\n",
       "      <th>Sideswipe</th>\n",
       "    </tr>\n",
       "  </thead>\n",
       "  <tbody>\n",
       "    <tr>\n",
       "      <th>0</th>\n",
       "      <td>2</td>\n",
       "      <td>0</td>\n",
       "      <td>0</td>\n",
       "      <td>0</td>\n",
       "      <td>0</td>\n",
       "      <td>0</td>\n",
       "      <td>1</td>\n",
       "      <td>0</td>\n",
       "      <td>0</td>\n",
       "      <td>0</td>\n",
       "      <td>0</td>\n",
       "      <td>0</td>\n",
       "      <td>0</td>\n",
       "      <td>0</td>\n",
       "      <td>0</td>\n",
       "      <td>0</td>\n",
       "    </tr>\n",
       "    <tr>\n",
       "      <th>1</th>\n",
       "      <td>2</td>\n",
       "      <td>0</td>\n",
       "      <td>0</td>\n",
       "      <td>0</td>\n",
       "      <td>0</td>\n",
       "      <td>0</td>\n",
       "      <td>0</td>\n",
       "      <td>0</td>\n",
       "      <td>0</td>\n",
       "      <td>0</td>\n",
       "      <td>0</td>\n",
       "      <td>0</td>\n",
       "      <td>0</td>\n",
       "      <td>0</td>\n",
       "      <td>0</td>\n",
       "      <td>1</td>\n",
       "    </tr>\n",
       "    <tr>\n",
       "      <th>2</th>\n",
       "      <td>4</td>\n",
       "      <td>0</td>\n",
       "      <td>0</td>\n",
       "      <td>0</td>\n",
       "      <td>0</td>\n",
       "      <td>0</td>\n",
       "      <td>0</td>\n",
       "      <td>0</td>\n",
       "      <td>0</td>\n",
       "      <td>0</td>\n",
       "      <td>0</td>\n",
       "      <td>1</td>\n",
       "      <td>0</td>\n",
       "      <td>0</td>\n",
       "      <td>0</td>\n",
       "      <td>0</td>\n",
       "    </tr>\n",
       "    <tr>\n",
       "      <th>3</th>\n",
       "      <td>3</td>\n",
       "      <td>0</td>\n",
       "      <td>0</td>\n",
       "      <td>0</td>\n",
       "      <td>0</td>\n",
       "      <td>0</td>\n",
       "      <td>0</td>\n",
       "      <td>0</td>\n",
       "      <td>0</td>\n",
       "      <td>0</td>\n",
       "      <td>1</td>\n",
       "      <td>0</td>\n",
       "      <td>0</td>\n",
       "      <td>0</td>\n",
       "      <td>0</td>\n",
       "      <td>0</td>\n",
       "    </tr>\n",
       "    <tr>\n",
       "      <th>4</th>\n",
       "      <td>2</td>\n",
       "      <td>0</td>\n",
       "      <td>0</td>\n",
       "      <td>0</td>\n",
       "      <td>0</td>\n",
       "      <td>0</td>\n",
       "      <td>1</td>\n",
       "      <td>0</td>\n",
       "      <td>0</td>\n",
       "      <td>0</td>\n",
       "      <td>0</td>\n",
       "      <td>0</td>\n",
       "      <td>0</td>\n",
       "      <td>0</td>\n",
       "      <td>0</td>\n",
       "      <td>0</td>\n",
       "    </tr>\n",
       "  </tbody>\n",
       "</table>\n",
       "</div>"
      ],
      "text/plain": [
       "   PERSONCOUNT  PEDCOUNT  PEDCYLCOUNT  UNDERINFL  SPEEDING  HITPARKEDCAR  \\\n",
       "0            2         0            0          0         0             0   \n",
       "1            2         0            0          0         0             0   \n",
       "2            4         0            0          0         0             0   \n",
       "3            3         0            0          0         0             0   \n",
       "4            2         0            0          0         0             0   \n",
       "\n",
       "   Angles  Cycles  Head On  Left Turn  Other  Parked Car  Pedestrian  \\\n",
       "0       1       0        0          0      0           0           0   \n",
       "1       0       0        0          0      0           0           0   \n",
       "2       0       0        0          0      0           1           0   \n",
       "3       0       0        0          0      1           0           0   \n",
       "4       1       0        0          0      0           0           0   \n",
       "\n",
       "   Rear Ended  Right Turn  Sideswipe  \n",
       "0           0           0          0  \n",
       "1           0           0          1  \n",
       "2           0           0          0  \n",
       "3           0           0          0  \n",
       "4           0           0          0  "
      ]
     },
     "execution_count": 22,
     "metadata": {},
     "output_type": "execute_result"
    }
   ],
   "source": [
    "Feature = df_sel[['PERSONCOUNT','PEDCOUNT','PEDCYLCOUNT','UNDERINFL','SPEEDING','HITPARKEDCAR']]\n",
    "Feature = pd.concat([Feature,pd.get_dummies(df['COLLISIONTYPE'])], axis=1)\n",
    "#Feature.drop(['Unknown'], axis = 1,inplace=True)\n",
    "#Feature.drop(['Other'], axis = 1,inplace=True)\n",
    "Feature.head()"
   ]
  },
  {
   "cell_type": "code",
   "execution_count": 23,
   "metadata": {},
   "outputs": [],
   "source": [
    "X = Feature\n",
    "y = df_sel['SEVERITYCODE']\n",
    "\n",
    "# Normalize data\n",
    "\n",
    "X= preprocessing.StandardScaler().fit(X).transform(X)"
   ]
  },
  {
   "cell_type": "code",
   "execution_count": 24,
   "metadata": {},
   "outputs": [
    {
     "name": "stdout",
     "output_type": "stream",
     "text": [
      "Train set: (155738, 16) (155738,)\n",
      "Test set: (38935, 16) (38935,)\n"
     ]
    }
   ],
   "source": [
    "from sklearn.model_selection import train_test_split\n",
    "X_train, X_test, y_train, y_test = train_test_split( X, y, test_size=0.2,random_state=4)\n",
    "\n",
    "print ('Train set:', X_train.shape, y_train.shape)\n",
    "print ('Test set:', X_test.shape, y_test.shape)"
   ]
  },
  {
   "cell_type": "code",
   "execution_count": 25,
   "metadata": {},
   "outputs": [
    {
     "name": "stdout",
     "output_type": "stream",
     "text": [
      "KNeighborsClassifier(n_neighbors=4)\n",
      "Train set acc:  0.7489758440457692\n",
      "Test set acc:  0.7511493514832412\n"
     ]
    }
   ],
   "source": [
    "from sklearn.neighbors import KNeighborsClassifier\n",
    "\n",
    "# k = 4 appears to have the best test set accuracy (75.1%)\n",
    "k = 4\n",
    "# train\n",
    "neigh = KNeighborsClassifier(n_neighbors = k).fit(X_train,y_train)\n",
    "print(neigh)\n",
    "\n",
    "yhat = neigh.predict(X_test)\n",
    "#hat[0:5]\n",
    "\n",
    "# Accuracty of selected K (K = 4)\n",
    "print(\"Train set acc: \", metrics.accuracy_score(y_train, neigh.predict(X_train)))\n",
    "print(\"Test set acc: \", metrics.accuracy_score(y_test, yhat))"
   ]
  },
  {
   "cell_type": "code",
   "execution_count": 26,
   "metadata": {},
   "outputs": [
    {
     "name": "stdout",
     "output_type": "stream",
     "text": [
      "[0.66148709 0.71005522 0.7080262  0.75114935 0.7296263  0.74452292\n",
      " 0.71544882 0.7424939  0.74269937]\n"
     ]
    },
    {
     "data": {
      "image/png": "[encoded data removed]",
      "text/plain": [
       "<Figure size 432x288 with 1 Axes>"
      ]
     },
     "metadata": {
      "needs_background": "light"
     },
     "output_type": "display_data"
    }
   ],
   "source": [
    "# Testing data to find best K value for KNN\n",
    "Ks = 10\n",
    "mean_acc = np.zeros((Ks-1))\n",
    "std_acc = np.zeros((Ks-1))\n",
    "ConfustionMx = [];\n",
    "for n in range(1,Ks):\n",
    "    #Train Model and Predict\n",
    "    neigh = KNeighborsClassifier(n_neighbors = n).fit(X_train,y_train)\n",
    "    yhat=neigh.predict(X_test)\n",
    "    mean_acc[n-1] = metrics.accuracy_score(y_test, yhat)\n",
    "    std_acc[n-1]=np.std(yhat==y_test)/np.sqrt(yhat.shape[0])\n",
    "    \n",
    "print(mean_acc)\n",
    "\n",
    "# Accuracy for K neighbors chart\n",
    "plt.plot(range(1,Ks),mean_acc,'g')\n",
    "plt.fill_between(range(1,Ks),mean_acc - 1 * std_acc,mean_acc + 1 * std_acc,alpha=0.10)\n",
    "plt.legend(('Accuracy ', '± 3x std'))\n",
    "plt.ylabel('Accuracy ')\n",
    "plt.xlabel('# of Neighbors (K)')\n",
    "plt.tight_layout()\n",
    "plt.show()"
   ]
  },
  {
   "cell_type": "code",
   "execution_count": null,
   "metadata": {},
   "outputs": [],
   "source": [
    "\n",
    "\n"
   ]
  },
  {
   "cell_type": "code",
   "execution_count": null,
   "metadata": {},
   "outputs": [],
   "source": []
  },
  {
   "cell_type": "code",
   "execution_count": null,
   "metadata": {},
   "outputs": [],
   "source": []
  },
  {
   "cell_type": "code",
   "execution_count": null,
   "metadata": {},
   "outputs": [],
   "source": []
  },
  {
   "cell_type": "code",
   "execution_count": null,
   "metadata": {},
   "outputs": [],
   "source": []
  }
 ],
 "metadata": {
  "kernelspec": {
   "display_name": "Python 3",
   "language": "python",
   "name": "python3"
  },
  "language_info": {
   "codemirror_mode": {
    "name": "ipython",
    "version": 3
   },
   "file_extension": ".py",
   "mimetype": "text/x-python",
   "name": "python",
   "nbconvert_exporter": "python",
   "pygments_lexer": "ipython3",
   "version": "3.8.3"
  }
 },
 "nbformat": 4,
 "nbformat_minor": 4
}
